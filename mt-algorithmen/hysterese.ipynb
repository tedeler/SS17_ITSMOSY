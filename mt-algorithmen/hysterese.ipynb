{
 "cells": [
  {
   "cell_type": "markdown",
   "metadata": {},
   "source": [
    "## Hysterese"
   ]
  },
  {
   "cell_type": "code",
   "execution_count": 1,
   "metadata": {
    "collapsed": false
   },
   "outputs": [
    {
     "name": "stdout",
     "output_type": "stream",
     "text": [
      "Populating the interactive namespace from numpy and matplotlib\n"
     ]
    }
   ],
   "source": [
    "%pylab inline\n",
    "temperatur = [19, 18, 17, 16, 15, 14, 15, 16, 16.5, 17, 18, 18.9, 17.6, 16.3, 17.1, 17.4, 18.3, 17.4, 16.9, \n",
    "              16.8, 17.1, 17.3, 18.5, 19, 20]\n",
    "\n",
    "# Funktion zum Testen der Filter\n",
    "def test(filter):\n",
    "    output = []\n",
    "    for x in temperatur:\n",
    "        y = filter(x)\n",
    "        output.append(y)\n",
    "        \n",
    "    print output\n",
    "    output[:] = [x * 4 + 15 for x in output] # für den Plot skalieren\n",
    "    \n",
    "    plot(range(0,len(temperatur)), temperatur, range(0, len(output)), output)"
   ]
  },
  {
   "cell_type": "code",
   "execution_count": 2,
   "metadata": {
    "collapsed": false
   },
   "outputs": [],
   "source": [
    "# Aufgabe: Programmieren Sie ein Filterfunktion heizung(temperatur), die eine Heizungssteuerung simulieren soll:\n",
    "# Ausgabe der Funktion:\n",
    "#       0 = Heizung aus\n",
    "#       1 = Heizung an\n",
    "# die Solltemperatur beträgt 17 Grad\n"
   ]
  }
 ],
 "metadata": {
  "kernelspec": {
   "display_name": "Python 2",
   "language": "python",
   "name": "python2"
  },
  "language_info": {
   "codemirror_mode": {
    "name": "ipython",
    "version": 2
   },
   "file_extension": ".py",
   "mimetype": "text/x-python",
   "name": "python",
   "nbconvert_exporter": "python",
   "pygments_lexer": "ipython2",
   "version": "2.7.10"
  }
 },
 "nbformat": 4,
 "nbformat_minor": 0
}
