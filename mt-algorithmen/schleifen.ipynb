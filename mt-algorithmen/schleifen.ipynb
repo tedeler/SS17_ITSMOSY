{
 "cells": [
  {
   "cell_type": "markdown",
   "metadata": {},
   "source": [
    "## Schleifen"
   ]
  },
  {
   "cell_type": "code",
   "execution_count": 4,
   "metadata": {
    "collapsed": false
   },
   "outputs": [
    {
     "name": "stdout",
     "output_type": "stream",
     "text": [
      "Populating the interactive namespace from numpy and matplotlib\n"
     ]
    }
   ],
   "source": [
    "%pylab inline\n",
    "input = [13, 14, 10, 16, 27, 200, 25, 33, 42, 38, 41, 55]"
   ]
  },
  {
   "cell_type": "code",
   "execution_count": 12,
   "metadata": {
    "collapsed": false
   },
   "outputs": [
    {
     "name": "stdout",
     "output_type": "stream",
     "text": [
      "13 14 10 16 27 200 25 33 42 38 41 55\n",
      "13 14 10 16 27 200 25 33 42 38 41 55\n",
      "13 14 10 16 27 200 25 33 42 38 41 55\n"
     ]
    }
   ],
   "source": [
    "# Aufgabe 1\n",
    "# a) geben Sie die Werte in einer Schleife mit print() aus\n",
    "# b) ALTERNATIV: Schreiben Sie eine Funktion show(), die die Werte eines Arrays mit print() ausgibt, z.B.\n",
    "#  show(input)\n",
    "\n",
    "# Lösung 1: while-Schleife\n",
    "i = 0\n",
    "while i < len(input):\n",
    "    print(input[i]),   \n",
    "    i = i + 1\n",
    "# Zeilenumbruch\n",
    "print\n",
    "# Lösung 2: for-Schleife\n",
    "for i in range(0, len(input)):\n",
    "    print(input[i]),\n",
    "print\n",
    "# Funktion, die Elemente ausgibt\n",
    "def show(array):\n",
    "    for i in range(0, len(array)):\n",
    "        print(input[i]),\n",
    "#       print(input[i], end=\" \")\n",
    "show(input)   "
   ]
  },
  {
   "cell_type": "code",
   "execution_count": 16,
   "metadata": {
    "collapsed": false
   },
   "outputs": [
    {
     "name": "stdout",
     "output_type": "stream",
     "text": [
      "514\n",
      "42\n"
     ]
    }
   ],
   "source": [
    "# Aufgabe 2: Schreiben Sie einen Algorithmus, der den Mittelwert der Werte im Array berechnet (möglichst als Funktion)\n",
    "summe = 0                        # 1. Zwischenergebnis initialisieren\n",
    "for i in range(0, len(input)):   # 2. für alle Elemente im Array\n",
    "    summe += input[i]            # 3. Zwischenergebnis modifizieren, d.h Element addieren\n",
    "\n",
    "mittelwert = summe/len(input)\n",
    "print(mittelwert)"
   ]
  },
  {
   "cell_type": "code",
   "execution_count": 17,
   "metadata": {
    "collapsed": false
   },
   "outputs": [
    {
     "name": "stdout",
     "output_type": "stream",
     "text": [
      "10\n"
     ]
    }
   ],
   "source": [
    "# Aufgabe 3: Schreiben Sie einen Algorithmus, der das kleinste Element im Array bestimmt (möglichst als Funktion)\n",
    "minimum = input[0]                # 1. Zwischenergebnis initialisieren\n",
    "for i in range(0, len(input)):    # 2. für alle Elemente im Array\n",
    "    if input[i] < minimum:        # 3. Zwischene\n",
    "        minimum = input[i]\n",
    "print(minimum)"
   ]
  },
  {
   "cell_type": "code",
   "execution_count": 5,
   "metadata": {
    "collapsed": false
   },
   "outputs": [
    {
     "name": "stdout",
     "output_type": "stream",
     "text": [
      "2\n"
     ]
    }
   ],
   "source": [
    "# Aufgabe 4: Schreiben Sie einen Algorithmus, der den Index des kleinsten Elements im Array bestimmt\n",
    "def indexOfMinimum(array):\n",
    "    indexOfMin = 0            # 1. Zwischenergebnis initialisieren\n",
    "    for i in range(0, len(array)):\n",
    "        if array[i] < array[indexOfMin]:\n",
    "            indexOfMin = i\n",
    "    return indexOfMin\n",
    "print(indexOfMinimum(input))"
   ]
  },
  {
   "cell_type": "code",
   "execution_count": 6,
   "metadata": {
    "collapsed": false
   },
   "outputs": [
    {
     "name": "stdout",
     "output_type": "stream",
     "text": [
      "[13, 14, 10, 16, 27, 200, 25, 33, 42, 38, 41, 55]\n",
      "[13, 14, 10, 16, 200, 27, 25, 33, 42, 38, 41, 55]\n"
     ]
    }
   ],
   "source": [
    "# Aufgabe 5: Schreiben Sie eine Funktion swap(data, i,j), die die Array-Elemente mit Indices i und j vertauscht\n",
    "def swap(data, i, j):\n",
    "    temp = data[i]\n",
    "    data[i] = data[j]\n",
    "    data[j] = temp\n",
    "print(input)\n",
    "swap(input, 4, 5)\n",
    "print(input)"
   ]
  },
  {
   "cell_type": "code",
   "execution_count": 7,
   "metadata": {
    "collapsed": false
   },
   "outputs": [
    {
     "name": "stdout",
     "output_type": "stream",
     "text": [
      "[13, 14, 10, 16, 200, 27, 25, 33, 42, 38, 41, 55]\n",
      "[10, 13, 14, 16, 25, 27, 33, 38, 41, 42, 55, 200]\n"
     ]
    }
   ],
   "source": [
    "# Aufgabe 6: Schreiben Sie eine Funktion sort(data), die die Arrayelemente nach ihrer Größe sortiert\n",
    "def sortieren(data):\n",
    "    for i in range(0, len(data)):\n",
    "        # Index des kleinsten Elements ab Index i finden\n",
    "        indexOfMin = i\n",
    "        for j in range(i, len(data)):\n",
    "            if data[j] < data[indexOfMin]:\n",
    "                indexOfMin = j\n",
    "        # Arrayelemente i und indexOfMin tauschen\n",
    "        temp = data[i]\n",
    "        data[i] = data[indexOfMin]\n",
    "        data[indexOfMin] = temp\n",
    "print(input)\n",
    "sortieren(input)\n",
    "print(input)"
   ]
  },
  {
   "cell_type": "code",
   "execution_count": null,
   "metadata": {
    "collapsed": true
   },
   "outputs": [],
   "source": []
  }
 ],
 "metadata": {
  "kernelspec": {
   "display_name": "Python 2",
   "language": "python",
   "name": "python2"
  },
  "language_info": {
   "codemirror_mode": {
    "name": "ipython",
    "version": 2
   },
   "file_extension": ".py",
   "mimetype": "text/x-python",
   "name": "python",
   "nbconvert_exporter": "python",
   "pygments_lexer": "ipython2",
   "version": "2.7.10"
  }
 },
 "nbformat": 4,
 "nbformat_minor": 0
}
