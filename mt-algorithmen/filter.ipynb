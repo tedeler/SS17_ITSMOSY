{
 "cells": [
  {
   "cell_type": "markdown",
   "metadata": {},
   "source": [
    "## Filter"
   ]
  },
  {
   "cell_type": "code",
   "execution_count": 2,
   "metadata": {
    "collapsed": false
   },
   "outputs": [
    {
     "name": "stdout",
     "output_type": "stream",
     "text": [
      "Populating the interactive namespace from numpy and matplotlib\n"
     ]
    },
    {
     "data": {
      "image/png": "[encoded data removed]",
      "text/plain": [
       "<matplotlib.figure.Figure at 0x41b33c8>"
      ]
     },
     "metadata": {},
     "output_type": "display_data"
    }
   ],
   "source": [
    "%pylab inline\n",
    "input = [13, 14, 10, 16, 27, 200, 25, 33, 42, 38, 41, 55, 38, 31, 44, 46, 53, 39, 40, 57, 47, 58, 62, 66, 74, 84, 85, 86, 74]\n",
    "plot(input)\n",
    "# Funktion zum Testen der Filter\n",
    "def test(filter):\n",
    "    output = []\n",
    "    for x in input:\n",
    "        y = filter(x)\n",
    "        output.append(y)\n",
    "    print output\n",
    "    plot(range(0,len(input)), input, range(0, len(output)), output)"
   ]
  },
  {
   "cell_type": "code",
   "execution_count": 8,
   "metadata": {
    "collapsed": false
   },
   "outputs": [],
   "source": [
    "# Beispiel Bypass (macht gar nichts mit den Samples)\n"
   ]
  },
  {
   "cell_type": "code",
   "execution_count": 9,
   "metadata": {
    "collapsed": false
   },
   "outputs": [],
   "source": [
    "# Beispiel Delay: Ausgangssample ist das um 1 Sample verzögerte Eingangssample\n"
   ]
  },
  {
   "cell_type": "code",
   "execution_count": 5,
   "metadata": {
    "collapsed": false
   },
   "outputs": [],
   "source": [
    "# Aufgabe: Programmieren Sie ein Meanvalue-Filter: zwei benachbarte Samples werden durch ihren Mittelwert ersetzt\n",
    "# y(n) = 0.5 * x(n) + 0.5 * x(n-1)\n",
    "# Tipp: verwenden Sie die oben definierte Funktion delay(x) als Ausgangsbasis\n"
   ]
  },
  {
   "cell_type": "code",
   "execution_count": 6,
   "metadata": {
    "collapsed": false
   },
   "outputs": [],
   "source": [
    "# Aufgabe Meanvalue Filter 2: Ersetzt drei benachbarte Samples durch ihren Mittelwert\n",
    "# y(n) = 0.333 * x(n) + 0.333 * x(n-1) + 0.333 * x(n-2)\n"
   ]
  },
  {
   "cell_type": "code",
   "execution_count": 10,
   "metadata": {
    "collapsed": false
   },
   "outputs": [],
   "source": [
    "# Beispiel Rekursiver Filter erster Ordnung\n",
    "# y(n) = 0.9 * y(n-1) + 0.1 * x\n"
   ]
  },
  {
   "cell_type": "code",
   "execution_count": 7,
   "metadata": {
    "collapsed": false
   },
   "outputs": [],
   "source": [
    "# Medianfilter: drei (oder mehr) benachbarte Samples werden durch ihren Median ersetzt\n",
    "# y(n) = median(x(n), x(n-1), x(n-2))\n",
    "\n"
   ]
  }
 ],
 "metadata": {
  "kernelspec": {
   "display_name": "Python 2",
   "language": "python",
   "name": "python2"
  },
  "language_info": {
   "codemirror_mode": {
    "name": "ipython",
    "version": 2
   },
   "file_extension": ".py",
   "mimetype": "text/x-python",
   "name": "python",
   "nbconvert_exporter": "python",
   "pygments_lexer": "ipython2",
   "version": "2.7.10"
  }
 },
 "nbformat": 4,
 "nbformat_minor": 0
}
